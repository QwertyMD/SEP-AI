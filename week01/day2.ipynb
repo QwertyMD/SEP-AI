{
 "cells": [
  {
   "cell_type": "markdown",
   "id": "ace5c744-664e-4c42-ab0e-ccc1d5866a85",
   "metadata": {},
   "source": [
    "#### Check Odd or Even"
   ]
  },
  {
   "cell_type": "code",
   "execution_count": null,
   "id": "fd6baa1f-9250-444c-882b-ea8e9452fe24",
   "metadata": {},
   "outputs": [],
   "source": [
    "num = int(input(\"Enter a number: \"))\n",
    "res = [\"Even\", \"Odd\"]\n",
    "print(res[num % 2])"
   ]
  },
  {
   "cell_type": "markdown",
   "id": "92e3ccd0-1dee-4c42-b6cb-693751872a1d",
   "metadata": {},
   "source": [
    "#### if-else tree"
   ]
  },
  {
   "cell_type": "code",
   "execution_count": null,
   "id": "e0ec40c5-0b73-4003-99b2-9afa0980733d",
   "metadata": {},
   "outputs": [],
   "source": [
    "marks = int(input(\"Enter your marks: \"))\n",
    "\n",
    "if marks >=90:\n",
    "    print(\"Grade A\")\n",
    "elif marks >=80:\n",
    "    print(\"Grade B\")\n",
    "elif marks >=70:\n",
    "    print(\"Grade C\")\n",
    "elif marks >=60:\n",
    "    print(\"Grade D\")\n",
    "elif marks >=50:\n",
    "    print(\"Grade E\")\n",
    "elif marks >=40:\n",
    "    print(\"Grade F\")\n",
    "else:\n",
    "    print(\"Fail\")"
   ]
  },
  {
   "cell_type": "markdown",
   "id": "0e6e6a05-2756-4679-8140-d84067065fa9",
   "metadata": {},
   "source": [
    "#### Reverse a number"
   ]
  },
  {
   "cell_type": "code",
   "execution_count": null,
   "id": "cc2c8bef-27ab-4014-8e98-07ed1ece4bc2",
   "metadata": {},
   "outputs": [],
   "source": [
    "num = 12345\n",
    "num = str(num)\n",
    "rev = num[::-1]\n",
    "print(int(rev))"
   ]
  },
  {
   "cell_type": "markdown",
   "id": "a47af52f-2a5d-4df7-bec9-86f22d260056",
   "metadata": {},
   "source": [
    "#### Pattern Printing"
   ]
  },
  {
   "cell_type": "code",
   "execution_count": null,
   "id": "aa29abd4-a7c4-4a34-ada5-2ac4ec0e14d3",
   "metadata": {},
   "outputs": [],
   "source": [
    "for i in range(6):\n",
    "    for j in range(i):\n",
    "        print(\"*\", end=' ')\n",
    "    print()"
   ]
  },
  {
   "cell_type": "markdown",
   "id": "be56e4d5",
   "metadata": {},
   "source": [
    "#### Largest digit in a number"
   ]
  },
  {
   "cell_type": "code",
   "execution_count": null,
   "id": "c3e71460",
   "metadata": {},
   "outputs": [],
   "source": [
    "num = int(input(\"Enter a number: \"))\n",
    "num = max(str(num))\n",
    "print(num)"
   ]
  },
  {
   "cell_type": "markdown",
   "id": "188d70e8",
   "metadata": {},
   "source": [
    "#### Check armstrong number"
   ]
  },
  {
   "cell_type": "code",
   "execution_count": null,
   "id": "98e98a68",
   "metadata": {},
   "outputs": [],
   "source": [
    "num = int(input(\"Enter a number: \"))\n",
    "og = num\n",
    "length = len(str(num))\n",
    "sum = 0\n",
    "while num != 0:\n",
    "    digit = num % 10\n",
    "    sum += digit ** length\n",
    "    num //= 10\n",
    "print(\"Armstrong\") if sum == og else print(\"Not Armstrong\")"
   ]
  }
 ],
 "metadata": {
  "kernelspec": {
   "display_name": "base",
   "language": "python",
   "name": "python3"
  },
  "language_info": {
   "codemirror_mode": {
    "name": "ipython",
    "version": 3
   },
   "file_extension": ".py",
   "mimetype": "text/x-python",
   "name": "python",
   "nbconvert_exporter": "python",
   "pygments_lexer": "ipython3",
   "version": "3.12.7"
  }
 },
 "nbformat": 4,
 "nbformat_minor": 5
}
