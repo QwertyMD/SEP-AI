{
 "cells": [
  {
   "cell_type": "markdown",
   "id": "e33ea319",
   "metadata": {},
   "source": [
    "#### Data Cleaning"
   ]
  },
  {
   "cell_type": "code",
   "execution_count": null,
   "id": "ee4ff7a6",
   "metadata": {},
   "outputs": [],
   "source": [
    "import pandas as pd\n",
    "\n",
    "df = pd.read_csv(\"students_100.csv\")\n",
    "\n",
    "# mean = round(df[\"Marks\"].mean(), 2)\n",
    "# df[\"Marks\"] = df[\"Marks\"].fillna(mean)\n",
    "# df\n",
    "\n",
    "# df.isnull().sum()\n",
    "\n",
    "# df.dropna(subset=[\"Age\"])\n",
    "\n",
    "# df[\"Age\"] = pd.to_numeric(df[\"Age\"], errors=\"coerce\")\n",
    "# df\n",
    "\n",
    "# df[\"Join_Date\"] = pd.to_datetime(df[\"Join_Date\"], errors=\"coerce\")\n",
    "# df[\"Join_Date\"] = df[\"Join_Date\"].fillna(df[\"Join_Date\"].mean())\n",
    "# df\n",
    "\n",
    "# df.dropna(thresh=3)\n",
    "\n",
    "# df = df[df[\"Passed\"] == \"True\"]\n",
    "# mean = df[\"Marks\"].mean()\n",
    "# print(mean)"
   ]
  }
 ],
 "metadata": {
  "kernelspec": {
   "display_name": ".venv",
   "language": "python",
   "name": "python3"
  },
  "language_info": {
   "codemirror_mode": {
    "name": "ipython",
    "version": 3
   },
   "file_extension": ".py",
   "mimetype": "text/x-python",
   "name": "python",
   "nbconvert_exporter": "python",
   "pygments_lexer": "ipython3",
   "version": "3.13.5"
  }
 },
 "nbformat": 4,
 "nbformat_minor": 5
}
