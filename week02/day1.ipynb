{
 "cells": [
  {
   "cell_type": "markdown",
   "id": "8eab430b",
   "metadata": {},
   "source": [
    "#### Vowels counter"
   ]
  },
  {
   "cell_type": "code",
   "execution_count": null,
   "id": "54d7fcd8",
   "metadata": {},
   "outputs": [],
   "source": [
    "def vowelCounter(str):\n",
    "    vowels = \"aeiou\"\n",
    "    count = 0\n",
    "    for char in str.lower():\n",
    "        if char in vowels:\n",
    "            count += 1\n",
    "    return count\n",
    "\n",
    "word = str(input(\"Enter a word: \"))\n",
    "print(vowelCounter(word))"
   ]
  }
 ],
 "metadata": {
  "kernelspec": {
   "display_name": "base",
   "language": "python",
   "name": "python3"
  },
  "language_info": {
   "codemirror_mode": {
    "name": "ipython",
    "version": 3
   },
   "file_extension": ".py",
   "mimetype": "text/x-python",
   "name": "python",
   "nbconvert_exporter": "python",
   "pygments_lexer": "ipython3",
   "version": "3.12.7"
  }
 },
 "nbformat": 4,
 "nbformat_minor": 5
}
