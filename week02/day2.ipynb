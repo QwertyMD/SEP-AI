{
 "cells": [
  {
   "cell_type": "markdown",
   "id": "5ce0fe39",
   "metadata": {},
   "source": [
    "#### Area of Circle"
   ]
  },
  {
   "cell_type": "code",
   "execution_count": null,
   "id": "942dcb3a",
   "metadata": {},
   "outputs": [],
   "source": [
    "import math\n",
    "r = float(input(\"Enter the radius of the circle: \"))\n",
    "area = math.pi * pow(r,2)\n",
    "print(\"The area of the circle is \", area)"
   ]
  },
  {
   "cell_type": "markdown",
   "id": "92b9866d",
   "metadata": {},
   "source": [
    "#### Radians"
   ]
  },
  {
   "cell_type": "code",
   "execution_count": null,
   "id": "5307f7e6",
   "metadata": {},
   "outputs": [],
   "source": [
    "import math as m\n",
    "print(m.radians(180))"
   ]
  },
  {
   "cell_type": "markdown",
   "id": "d1e9f444",
   "metadata": {},
   "source": [
    "#### Some Extra "
   ]
  },
  {
   "cell_type": "code",
   "execution_count": null,
   "id": "10bcb0c3",
   "metadata": {},
   "outputs": [],
   "source": [
    "import math as m\n",
    "print(m.isfinite(10))\n",
    "print(m.isnan(float(2.33)))"
   ]
  }
 ],
 "metadata": {
  "kernelspec": {
   "display_name": "venv",
   "language": "python",
   "name": "python3"
  },
  "language_info": {
   "codemirror_mode": {
    "name": "ipython",
    "version": 3
   },
   "file_extension": ".py",
   "mimetype": "text/x-python",
   "name": "python",
   "nbconvert_exporter": "python",
   "pygments_lexer": "ipython3",
   "version": "3.13.5"
  }
 },
 "nbformat": 4,
 "nbformat_minor": 5
}
