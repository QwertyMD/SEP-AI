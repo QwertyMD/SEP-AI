{
 "cells": [
  {
   "cell_type": "markdown",
   "id": "5ce0fe39",
   "metadata": {},
   "source": [
    "#### Area of Circle\n"
   ]
  },
  {
   "cell_type": "code",
   "execution_count": null,
   "id": "942dcb3a",
   "metadata": {},
   "outputs": [],
   "source": [
    "import math\n",
    "\n",
    "r = float(input(\"Enter the radius of the circle: \"))\n",
    "area = math.pi * pow(r, 2)\n",
    "print(\"The area of the circle is \", area)"
   ]
  },
  {
   "cell_type": "markdown",
   "id": "92b9866d",
   "metadata": {},
   "source": [
    "#### Radians\n"
   ]
  },
  {
   "cell_type": "code",
   "execution_count": null,
   "id": "5307f7e6",
   "metadata": {},
   "outputs": [],
   "source": [
    "import math as m\n",
    "\n",
    "print(m.radians(180))"
   ]
  },
  {
   "cell_type": "markdown",
   "id": "d1e9f444",
   "metadata": {},
   "source": [
    "#### Some Extra\n"
   ]
  },
  {
   "cell_type": "code",
   "execution_count": null,
   "id": "10bcb0c3",
   "metadata": {},
   "outputs": [],
   "source": [
    "import math as m\n",
    "\n",
    "print(m.isfinite(10))\n",
    "print(m.isnan(float(2.33)))"
   ]
  },
  {
   "cell_type": "code",
   "execution_count": null,
   "id": "0ab079c2",
   "metadata": {},
   "outputs": [],
   "source": [
    "import math as m\n",
    "\n",
    "p = 1000\n",
    "t = 3\n",
    "r = 2\n",
    "A = p * m.pow((1 + r / 100), t)\n",
    "# A = p * (1 + r / 100) ** t\n",
    "print(\"Compund amount: \", A)"
   ]
  },
  {
   "cell_type": "code",
   "execution_count": null,
   "id": "23e5d59a",
   "metadata": {},
   "outputs": [],
   "source": [
    "import math\n",
    "\n",
    "A = math.sqrt(math.log(1000,5) / math.log(50,3))\n",
    "print(A)"
   ]
  },
  {
   "cell_type": "markdown",
   "id": "7db713de",
   "metadata": {},
   "source": [
    "#### 'random' module"
   ]
  },
  {
   "cell_type": "code",
   "execution_count": null,
   "id": "8554c213",
   "metadata": {},
   "outputs": [],
   "source": [
    "import random as r\n",
    "\n",
    "num = r.randint(1,100)\n",
    "print(\"Random number between 1 & 100 is: \", num)"
   ]
  },
  {
   "cell_type": "code",
   "execution_count": null,
   "id": "23d81ac3",
   "metadata": {},
   "outputs": [],
   "source": [
    "import random as r\n",
    "num = list(range(1,10))\n",
    "r.shuffle(num)\n",
    "print(\"Shuffle list is: \", num)"
   ]
  },
  {
   "cell_type": "code",
   "execution_count": null,
   "id": "ce5fcbe3",
   "metadata": {},
   "outputs": [],
   "source": [
    "import random as r\n",
    "\n",
    "colors = [\"red\", \"blue\", \"pink\", \"yellow\", \"black\"]\n",
    "print(r.choice(colors))"
   ]
  },
  {
   "cell_type": "code",
   "execution_count": null,
   "id": "ded32614",
   "metadata": {},
   "outputs": [],
   "source": [
    "import random as r\n",
    "\n",
    "d1 = r.randint(1, 7)\n",
    "d2 = r.randint(1, 7)\n",
    "print(d1 + d2)"
   ]
  },
  {
   "cell_type": "markdown",
   "id": "6ec34470",
   "metadata": {},
   "source": [
    "#### Reverse String without Split"
   ]
  },
  {
   "cell_type": "code",
   "execution_count": null,
   "id": "febef22e",
   "metadata": {},
   "outputs": [],
   "source": [
    "def divide(string):\n",
    "    strings = []\n",
    "    point = string.index(\" \")\n",
    "    strings.append(string[:point])\n",
    "    strings.append(string[point + 1 :])\n",
    "    return strings\n",
    "\n",
    "\n",
    "strings = divide(\"one two three four\")\n",
    "\n",
    "# print(strings)\n",
    "\n",
    "result = []\n",
    "\n",
    "while strings:\n",
    "    s = strings.pop()\n",
    "    # print(s)\n",
    "    if \" \" in s:\n",
    "        temp = divide(s)\n",
    "        # print(temp)\n",
    "        strings.extend(temp)\n",
    "        # print(strings)\n",
    "    else:\n",
    "        result.append(s)\n",
    "        # print(result)\n",
    "\n",
    "for i in result:\n",
    "    print(i, end=\" \")"
   ]
  },
  {
   "cell_type": "markdown",
   "id": "671d45a0",
   "metadata": {},
   "source": [
    "#### Calculator"
   ]
  },
  {
   "cell_type": "code",
   "execution_count": null,
   "id": "2147d9b3",
   "metadata": {},
   "outputs": [],
   "source": [
    "calc = input(\"Enter calculation: \")\n",
    "lst = calc.split()\n",
    "if \"+\" in calc:\n",
    "    print(int(lst[0]) + int(lst[2]))\n",
    "if \"-\" in calc:\n",
    "    print(int(lst[0]) - int(lst[2]))\n",
    "if \"*\" in calc:\n",
    "    print(int(lst[0]) * int(lst[2]))\n",
    "if \"/\" in calc:\n",
    "    print(int(lst[0]) / int(lst[2]))\n"
   ]
  }
 ],
 "metadata": {
  "kernelspec": {
   "display_name": ".venv",
   "language": "python",
   "name": "python3"
  },
  "language_info": {
   "codemirror_mode": {
    "name": "ipython",
    "version": 3
   },
   "file_extension": ".py",
   "mimetype": "text/x-python",
   "name": "python",
   "nbconvert_exporter": "python",
   "pygments_lexer": "ipython3",
   "version": "3.13.5"
  }
 },
 "nbformat": 4,
 "nbformat_minor": 5
}
