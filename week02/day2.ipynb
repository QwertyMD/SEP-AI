{
 "cells": [
  {
   "cell_type": "markdown",
   "id": "5ce0fe39",
   "metadata": {},
   "source": [
    "#### Area of Circle"
   ]
  },
  {
   "cell_type": "code",
   "execution_count": null,
   "id": "942dcb3a",
   "metadata": {},
   "outputs": [],
   "source": [
    "import math\n",
    "r = float(input(\"Enter the radius of the circle: \"))\n",
    "area = math.pi * pow(r,2)\n",
    "print(\"The area of the circle is \", area)"
   ]
  }
 ],
 "metadata": {
  "kernelspec": {
   "display_name": "venv",
   "language": "python",
   "name": "python3"
  },
  "language_info": {
   "codemirror_mode": {
    "name": "ipython",
    "version": 3
   },
   "file_extension": ".py",
   "mimetype": "text/x-python",
   "name": "python",
   "nbconvert_exporter": "python",
   "pygments_lexer": "ipython3",
   "version": "3.13.5"
  }
 },
 "nbformat": 4,
 "nbformat_minor": 5
}
