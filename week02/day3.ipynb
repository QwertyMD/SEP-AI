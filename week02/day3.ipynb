{
 "cells": [
  {
   "cell_type": "markdown",
   "id": "d3e71ad5",
   "metadata": {},
   "source": [
    "#### File Handling"
   ]
  },
  {
   "cell_type": "code",
   "execution_count": null,
   "id": "47fd1cee",
   "metadata": {},
   "outputs": [],
   "source": [
    "f = open(\"test.txt\", \"r\")\n",
    "print(f.read())\n",
    "f.close()"
   ]
  },
  {
   "cell_type": "code",
   "execution_count": null,
   "id": "f5f0efe6",
   "metadata": {},
   "outputs": [],
   "source": [
    "f = open(\"test.txt\", \"w\")\n",
    "f.write(\"world\")\n",
    "f.close()"
   ]
  },
  {
   "cell_type": "code",
   "execution_count": null,
   "id": "257f77d6",
   "metadata": {},
   "outputs": [],
   "source": [
    "f = open(\"test.txt\", \"a\")\n",
    "f.write(\" hello\")\n",
    "f.close()"
   ]
  },
  {
   "cell_type": "code",
   "execution_count": null,
   "id": "4aef102f",
   "metadata": {},
   "outputs": [],
   "source": [
    "with open(\"test.txt\", \"r\") as f:\n",
    "    print(len(f.readlines()))"
   ]
  },
  {
   "cell_type": "code",
   "execution_count": null,
   "id": "36c4a4b2",
   "metadata": {},
   "outputs": [],
   "source": [
    "count = 0\n",
    "with open(\"test.txt\", \"r\") as f:\n",
    "    for line in f.readlines():\n",
    "        for i in line.split():\n",
    "            if i.lower() == \"morning\":\n",
    "                count += 1\n",
    "\n",
    "print(count)"
   ]
  },
  {
   "cell_type": "code",
   "execution_count": null,
   "id": "961089c3",
   "metadata": {},
   "outputs": [],
   "source": [
    "with open(\"test.txt\", \"r\") as f:\n",
    "    content = f.readlines()\n",
    "with open(\"test_copy.txt\", \"w\") as z:\n",
    "    for line in content:\n",
    "        z.write(line)"
   ]
  },
  {
   "cell_type": "markdown",
   "id": "4e86e45c",
   "metadata": {},
   "source": [
    "#### CSV"
   ]
  },
  {
   "cell_type": "code",
   "execution_count": null,
   "id": "430eaeb3",
   "metadata": {},
   "outputs": [],
   "source": [
    "import csv\n",
    "\n",
    "datas = [\n",
    "    [\"id\", \"name\", \"Address\"],\n",
    "    [21, \"Ram\", \"Delhi\"],\n",
    "    [22, \"Sita\", \"Mumbai\"],\n",
    "    [23, \"Gita\", \"Bangalore\"],\n",
    "]\n",
    "with open(\"data.csv\", \"w\", newline=\"\") as f:\n",
    "    writer = csv.writer(f)\n",
    "    writer.writerows(datas)"
   ]
  },
  {
   "cell_type": "code",
   "execution_count": null,
   "id": "aeb21f73",
   "metadata": {},
   "outputs": [],
   "source": [
    "import csv\n",
    "datas = [\n",
    "    [\"ID\", \"Name\",\"Grade\"],\n",
    "    [1, \"Ram\",\"A\"],\n",
    "    [2, \"Sita\",\"B\"],\n",
    "    [3, \"Gita\",\"B\"],\n",
    "    [4, \"Hari\",\"A\"],\n",
    "]\n",
    "\n",
    "with open(\"grade.csv\", \"w\", newline=\"\") as f:\n",
    "    writer = csv.writer(f)\n",
    "    writer.writerows(datas)\n",
    "\n",
    "with open(\"grade.csv\", \"r\") as f:\n",
    "    content = f.readlines()\n",
    "    for idx,val in enumerate(content):\n",
    "        each = val.split(\",\")\n",
    "        if \"A\" in each[2]:\n",
    "            print(each[1])\n",
    "\n"
   ]
  }
 ],
 "metadata": {
  "kernelspec": {
   "display_name": ".venv",
   "language": "python",
   "name": "python3"
  },
  "language_info": {
   "codemirror_mode": {
    "name": "ipython",
    "version": 3
   },
   "file_extension": ".py",
   "mimetype": "text/x-python",
   "name": "python",
   "nbconvert_exporter": "python",
   "pygments_lexer": "ipython3",
   "version": "3.13.5"
  }
 },
 "nbformat": 4,
 "nbformat_minor": 5
}
