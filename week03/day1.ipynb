{
 "cells": [
  {
   "cell_type": "markdown",
   "id": "63670ba4",
   "metadata": {},
   "source": [
    "#### Constructor"
   ]
  },
  {
   "cell_type": "code",
   "execution_count": null,
   "id": "dcaf9adf",
   "metadata": {},
   "outputs": [],
   "source": [
    "class Students:\n",
    "    pass\n",
    "\n",
    "s = Students()\n",
    "s.name = \"Noob\""
   ]
  },
  {
   "cell_type": "code",
   "execution_count": null,
   "id": "3176e8b7",
   "metadata": {},
   "outputs": [],
   "source": [
    "class Students:\n",
    "    def __init__(self, name):\n",
    "        self.name = name\n",
    "\n",
    "s = Students(\"Noob\")"
   ]
  },
  {
   "cell_type": "code",
   "execution_count": null,
   "id": "edab6ba9",
   "metadata": {},
   "outputs": [],
   "source": [
    "class Students:\n",
    "    def __init__(self, name, marks):\n",
    "        self.name = name\n",
    "        self.marks = marks\n",
    "\n",
    "    def calcAverage(self):\n",
    "        sum = 0\n",
    "        for i in self.marks:\n",
    "            sum += i\n",
    "        avg = sum / 3\n",
    "        return avg\n",
    "\n",
    "s = Students(\"Noob\", [85, 74, 99])\n",
    "print(s.calcAverage())"
   ]
  },
  {
   "cell_type": "code",
   "execution_count": null,
   "id": "5ae5ce2f",
   "metadata": {},
   "outputs": [],
   "source": [
    "class Account:\n",
    "    def __init__(self, accNum, balance):\n",
    "        self.accNum = accNum\n",
    "        self.balance = balance\n",
    "\n",
    "    def debit(self):\n",
    "        amount = int(input(\"Enter amount: \"))\n",
    "        self.balance -= amount\n",
    "        return self.balance\n",
    "\n",
    "    def credit(self):\n",
    "        amount = int(input(\"Enter amount: \"))\n",
    "        self.balance += amount\n",
    "        return self.balance\n",
    "\n",
    "s = Account(123, 5000)\n",
    "print(s.debit())\n",
    "print(s.credit())"
   ]
  },
  {
   "cell_type": "code",
   "execution_count": null,
   "id": "01a6121a",
   "metadata": {},
   "outputs": [],
   "source": [
    "class Product:\n",
    "    def __init__(self, name, price):\n",
    "        self.name = name\n",
    "        self.price = price\n",
    "\n",
    "    def discount(self):\n",
    "        self.price -= 0.1 * self.price\n",
    "        return self.price\n",
    "    \n",
    "s = Product(\"MilkyBar\", 100)\n",
    "print(s.price)\n",
    "print(s.discount())"
   ]
  },
  {
   "cell_type": "code",
   "execution_count": null,
   "id": "5cfbc863",
   "metadata": {},
   "outputs": [],
   "source": [
    "class Dog:\n",
    "    def speak(self):\n",
    "        return \"Woof Woof\"\n",
    "\n",
    "class Cat:\n",
    "    def speak(self):\n",
    "        return \"Meow Meow\"\n",
    "\n",
    "def sound(animal):\n",
    "    return animal.speak()\n",
    "\n",
    "d = Dog()\n",
    "c = Cat()\n",
    "\n",
    "print(sound(d))\n",
    "print(sound(c))"
   ]
  }
 ],
 "metadata": {
  "kernelspec": {
   "display_name": ".venv",
   "language": "python",
   "name": "python3"
  },
  "language_info": {
   "codemirror_mode": {
    "name": "ipython",
    "version": 3
   },
   "file_extension": ".py",
   "mimetype": "text/x-python",
   "name": "python",
   "nbconvert_exporter": "python",
   "pygments_lexer": "ipython3",
   "version": "3.13.5"
  }
 },
 "nbformat": 4,
 "nbformat_minor": 5
}
