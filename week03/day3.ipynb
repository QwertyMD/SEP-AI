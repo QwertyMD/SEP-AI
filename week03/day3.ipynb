{
 "cells": [
  {
   "cell_type": "markdown",
   "id": "af0eba94",
   "metadata": {},
   "source": [
    "#### Pandas"
   ]
  },
  {
   "cell_type": "code",
   "execution_count": null,
   "id": "689a4dbc",
   "metadata": {},
   "outputs": [],
   "source": [
    "import pandas as pd\n",
    "\n",
    "l = [10, 20, 30, 40]\n",
    "pd.Series(l)"
   ]
  },
  {
   "cell_type": "code",
   "execution_count": null,
   "id": "bb730ece",
   "metadata": {},
   "outputs": [],
   "source": [
    "d = {\"Name\":[\"Avinas\", \"Binash\", \"Dev\", \"Save\"], \"Marks\": [10,20,30,40]}\n",
    "pd.DataFrame(d)"
   ]
  },
  {
   "cell_type": "code",
   "execution_count": null,
   "id": "07da0e69",
   "metadata": {},
   "outputs": [],
   "source": [
    "url = \"titanic.csv\"\n",
    "df = pd.read_csv(url)\n",
    "# print(df.head(3))\n",
    "# print(df.tail(3))\n",
    "# print(df.shape)\n",
    "# print(df.columns.to_list())\n",
    "# print(df.sample())\n",
    "# print(df.describe())\n",
    "# print(df.info())\n",
    "# print(df.notnull())\n",
    "# print(df.isnull())\n",
    "print(df.duplicated().sum())"
   ]
  },
  {
   "cell_type": "code",
   "execution_count": null,
   "id": "2d53dd84",
   "metadata": {},
   "outputs": [],
   "source": [
    "url = \"titanic.csv\"\n",
    "df = pd.read_csv(url)\n",
    "survived_rich = df[df.Survived == 1].Fare\n",
    "print(survived_rich.sort_values(ascending=False).head(5))"
   ]
  },
  {
   "cell_type": "code",
   "execution_count": null,
   "id": "ff402e13",
   "metadata": {},
   "outputs": [],
   "source": [
    "url = \"titanic.csv\"\n",
    "df = pd.read_csv(url)\n",
    "print(df.drop(columns=\"Parch\").columns.tolist())"
   ]
  },
  {
   "cell_type": "code",
   "execution_count": null,
   "id": "929d36b1",
   "metadata": {},
   "outputs": [],
   "source": [
    "url = \"titanic.csv\"\n",
    "df = pd.read_csv(url)\n",
    "fem = df[(df.Embarked == \"S\") & (df.Pclass == 1) & (df.Sex == \"female\")].Name\n",
    "print(fem)"
   ]
  },
  {
   "cell_type": "code",
   "execution_count": null,
   "id": "52213b19",
   "metadata": {},
   "outputs": [],
   "source": [
    "url = \"titanic.csv\"\n",
    "df = pd.read_csv(url)\n",
    "avg_age = print(df.Age.mean())\n",
    "max_fare = print(df.Fare.max())\n",
    "max_fare = print(df.Fare.min())\n",
    "survived_rate = print(df.Survived.mean())\n",
    "missing_age = print(df.Age.isnull().sum())"
   ]
  }
 ],
 "metadata": {
  "kernelspec": {
   "display_name": ".venv",
   "language": "python",
   "name": "python3"
  },
  "language_info": {
   "codemirror_mode": {
    "name": "ipython",
    "version": 3
   },
   "file_extension": ".py",
   "mimetype": "text/x-python",
   "name": "python",
   "nbconvert_exporter": "python",
   "pygments_lexer": "ipython3",
   "version": "3.13.5"
  }
 },
 "nbformat": 4,
 "nbformat_minor": 5
}
