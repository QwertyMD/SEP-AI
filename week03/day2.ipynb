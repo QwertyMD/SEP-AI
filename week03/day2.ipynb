{
 "cells": [
  {
   "cell_type": "markdown",
   "id": "fdbdba6e",
   "metadata": {},
   "source": [
    "#### Numpy"
   ]
  },
  {
   "cell_type": "code",
   "execution_count": null,
   "id": "12fe17f6",
   "metadata": {},
   "outputs": [],
   "source": [
    "import numpy as np\n",
    "\n",
    "arr = np.array([1, 2, 3, 4, 5])\n",
    "print(arr)"
   ]
  },
  {
   "cell_type": "code",
   "execution_count": null,
   "id": "3ab6242a",
   "metadata": {},
   "outputs": [],
   "source": [
    "matrix = np.array([[1,2,3], [4,5,6], [7,8,9]])\n",
    "print(matrix)"
   ]
  },
  {
   "cell_type": "code",
   "execution_count": null,
   "id": "00e490fb",
   "metadata": {},
   "outputs": [],
   "source": [
    "zeros_array = np.zeros((3, 3))\n",
    "ones_array = np.ones((3, 3))\n",
    "\n",
    "print(\"Zeros array:\\n\", zeros_array)\n",
    "print(\"Ones array:\\n\", ones_array)"
   ]
  },
  {
   "cell_type": "code",
   "execution_count": null,
   "id": "25a2fe5d",
   "metadata": {},
   "outputs": [],
   "source": [
    "arr = np.array([[1,2,3],[4,5,6]])\n",
    "print(np.ndim(arr))"
   ]
  },
  {
   "cell_type": "code",
   "execution_count": null,
   "id": "dd0a047b",
   "metadata": {},
   "outputs": [],
   "source": [
    "arr = np.array([1,2,3])\n",
    "print(arr.dtype)"
   ]
  },
  {
   "cell_type": "code",
   "execution_count": null,
   "id": "ba18c58e",
   "metadata": {},
   "outputs": [],
   "source": [
    "arr = np.arange(0, 36).reshape(4,3,3)\n",
    "print(arr)\n",
    "print(arr[1,1])\n",
    "print(arr[1,0,1])"
   ]
  },
  {
   "cell_type": "code",
   "execution_count": null,
   "id": "28d72f95",
   "metadata": {},
   "outputs": [],
   "source": [
    "arr = np.ones((5, 5))\n",
    "\n",
    "arr[1:-1, 1:-1] = 0\n",
    "arr[2, 2] = 9\n",
    "print(arr)"
   ]
  },
  {
   "cell_type": "code",
   "execution_count": null,
   "id": "bbfc6737",
   "metadata": {},
   "outputs": [],
   "source": [
    "a = np.array([[1,2,3,3], [4,5,6,3]])\n",
    "b = np.array([[10], [50]])\n",
    "\n",
    "print(a+b)"
   ]
  },
  {
   "cell_type": "code",
   "execution_count": null,
   "id": "b8c8d372",
   "metadata": {},
   "outputs": [],
   "source": [
    "arr = np.random.randint(0, 20, size=(3, 3))\n",
    "print(arr[arr > 5])"
   ]
  }
 ],
 "metadata": {
  "kernelspec": {
   "display_name": ".venv",
   "language": "python",
   "name": "python3"
  },
  "language_info": {
   "codemirror_mode": {
    "name": "ipython",
    "version": 3
   },
   "file_extension": ".py",
   "mimetype": "text/x-python",
   "name": "python",
   "nbconvert_exporter": "python",
   "pygments_lexer": "ipython3",
   "version": "3.13.5"
  }
 },
 "nbformat": 4,
 "nbformat_minor": 5
}
