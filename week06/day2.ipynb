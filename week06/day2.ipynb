{
 "cells": [
  {
   "cell_type": "code",
   "execution_count": null,
   "id": "2df23978",
   "metadata": {},
   "outputs": [],
   "source": [
    "import csv\n",
    "from bs4 import BeautifulSoup\n",
    "\n",
    "with open(\"sample.html\", \"r\", encoding=\"utf-8\") as f:\n",
    "    soup = BeautifulSoup(f, \"html.parser\")\n",
    "\n",
    "title = soup.title.text if soup.title else \"\"\n",
    "heading_tag = soup.find(\"h1\")\n",
    "heading = heading_tag.text if heading_tag else \"\"\n",
    "intro_tag = soup.find(\"p\", class_=\"intro\")\n",
    "intro = intro_tag.text if intro_tag else \"\"\n",
    "description_tag = soup.find(\"p\", class_=\"description\")\n",
    "description = description_tag.text if description_tag else \"\"\n",
    "\n",
    "articles = soup.find_all(\"div\", class_=\"article\")\n",
    "article_data = []\n",
    "for article in articles:\n",
    "    article_title_tag = article.find(\"h2\")\n",
    "    article_body_tag = article.find(\"p\")\n",
    "    article_title = article_title_tag.text if article_title_tag else \"\"\n",
    "    article_body = article_body_tag.text if article_body_tag else \"\"\n",
    "    article_data.append({\"title\": article_title, \"body\": article_body})\n",
    "\n",
    "links = []\n",
    "for a in soup.find_all(\"a\"):\n",
    "    url = a.get(\"href\")\n",
    "    if url:\n",
    "        links.append({\"text\": a.text, \"url\": url})\n",
    "\n",
    "# Write main info to result.csv\n",
    "with open(\"result.csv\", \"w\", newline=\"\", encoding=\"utf-8\") as file:\n",
    "    writer = csv.writer(file)\n",
    "    writer.writerow([\"Title\", \"Heading\", \"Intro\", \"Description\"])\n",
    "    writer.writerow([title, heading, intro, description])\n",
    "\n",
    "# Write articles to articles.csv\n",
    "with open(\"articles.csv\", \"w\", newline=\"\", encoding=\"utf-8\") as file:\n",
    "    writer = csv.writer(file)\n",
    "    writer.writerow([\"Article Title\", \"Article Body\"])\n",
    "    for article in article_data:\n",
    "        writer.writerow([article[\"title\"], article[\"body\"]])\n",
    "\n",
    "# Write links to available_links.csv\n",
    "with open(\"available_links.csv\", \"w\", newline=\"\", encoding=\"utf-8\") as file:\n",
    "    writer = csv.writer(file)\n",
    "    writer.writerow([\"Text\", \"URL\"])\n",
    "    for link in links:\n",
    "        writer.writerow([link[\"text\"], link[\"url\"]])"
   ]
  }
 ],
 "metadata": {
  "kernelspec": {
   "display_name": ".venv",
   "language": "python",
   "name": "python3"
  },
  "language_info": {
   "codemirror_mode": {
    "name": "ipython",
    "version": 3
   },
   "file_extension": ".py",
   "mimetype": "text/x-python",
   "name": "python",
   "nbconvert_exporter": "python",
   "pygments_lexer": "ipython3",
   "version": "3.13.5"
  }
 },
 "nbformat": 4,
 "nbformat_minor": 5
}
