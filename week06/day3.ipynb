{
 "cells": [
  {
   "cell_type": "code",
   "execution_count": null,
   "id": "befa4375",
   "metadata": {},
   "outputs": [],
   "source": [
    "import requests\n",
    "\n",
    "def get_pokemon_data(pokemon_name):\n",
    "    url = f\"https://pokeapi.co/api/v2/pokemon/{pokemon_name}\"\n",
    "    response = requests.get(url)\n",
    "    if response.status_code == 200:\n",
    "        return response.json()\n",
    "    else:\n",
    "        return None\n",
    "\n",
    "pokemon_name = input(\"Enter the name of a Pokémon: \")\n",
    "data = get_pokemon_data(pokemon_name)\n",
    "if data:\n",
    "    print(f\"Name: {data['name']}\")\n",
    "else:\n",
    "    print(\"Pokémon not found\")"
   ]
  },
  {
   "cell_type": "code",
   "execution_count": null,
   "id": "0b3e871d",
   "metadata": {},
   "outputs": [],
   "source": [
    "import requests\n",
    "\n",
    "def get_dog_data():\n",
    "    url = \"https://dogapi.dog/api/v2/facts\"\n",
    "    response = requests.get(url)\n",
    "    if response.status_code == 200:\n",
    "        return response.json()\n",
    "    else:\n",
    "        return None\n",
    "\n",
    "data = get_dog_data()\n",
    "if data:\n",
    "    print(data['data'][0]['attributes']['body'])"
   ]
  },
  {
   "cell_type": "code",
   "execution_count": null,
   "id": "320be4d6",
   "metadata": {},
   "outputs": [],
   "source": [
    "import requests\n",
    "\n",
    "def get_joke():\n",
    "    url = \"https://icanhazdadjoke.com/\"\n",
    "    headers = {\"Accept\": \"application/json\"}\n",
    "    response = requests.get(url, headers=headers)\n",
    "    if response.status_code == 200:\n",
    "        return response.json()\n",
    "    else:\n",
    "        return None\n",
    "\n",
    "data = get_joke()\n",
    "if data:\n",
    "    print(data['joke'])"
   ]
  }
 ],
 "metadata": {
  "kernelspec": {
   "display_name": ".venv",
   "language": "python",
   "name": "python3"
  },
  "language_info": {
   "codemirror_mode": {
    "name": "ipython",
    "version": 3
   },
   "file_extension": ".py",
   "mimetype": "text/x-python",
   "name": "python",
   "nbconvert_exporter": "python",
   "pygments_lexer": "ipython3",
   "version": "3.13.5"
  }
 },
 "nbformat": 4,
 "nbformat_minor": 5
}
