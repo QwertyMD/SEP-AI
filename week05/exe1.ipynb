{
 "cells": [
  {
   "cell_type": "markdown",
   "id": "66fafae9",
   "metadata": {},
   "source": [
    "# Exercise 1: Performance Comparison Dashboard\n",
    "**Objective:**  \n",
    "Explore and compare student scores based on gender and parental education.\n",
    "## Instructions\n",
    "1. **Create a 2x2 dashboard** using `plt.subplots()`.\n",
    "2. **Include the following plots:**\n",
    "    - **Histogram:** Math Score Distribution\n",
    "    - **Boxplot:** Reading Score by Gender\n",
    "    - **Bar Plot:** Average Writing Score by Parental Education\n",
    "    - **Countplot:** Test Preparation Course Enrollment\n",
    "3. **Title:**  \n",
    "   *Dashboard: Performance by Demographics*\n",
    "4. **Use distinct colors** for gender groups, and **add annotations** where insights are visible (e.g., lowest-performing group).\n",
    "5. **Avoid clutter:** Remove unnecessary ticks/gridlines.\n",
    "6. **Save as** `dashboard1.png`"
   ]
  },
  {
   "cell_type": "code",
   "execution_count": null,
   "id": "9d3d0796",
   "metadata": {},
   "outputs": [],
   "source": [
    "import pandas as pd\n",
    "import matplotlib.pyplot as plt\n",
    "import seaborn as sns\n",
    "\n",
    "# Load your data\n",
    "df = pd.read_csv(\"students.csv\")\n",
    "\n",
    "# Set up the 2x2 dashboard\n",
    "fig, axs = plt.subplots(2, 2, figsize=(12, 8))\n",
    "fig.suptitle(\"Dashboard: Performance by Demographics\", fontsize=16)\n",
    "\n",
    "# 1. Histogram: Math Score Distribution\n",
    "axs[0, 0].hist(df[\"math_score\"], bins=10, color=\"skyblue\", edgecolor=\"black\")\n",
    "axs[0, 0].set_title(\"Math Score Distribution\")\n",
    "axs[0, 0].set_xlabel(\"Math Score\")\n",
    "axs[0, 0].set_ylabel(\"Count\")\n",
    "axs[0, 0].grid(False)\n",
    "\n",
    "# 2. Boxplot: Reading Score by Gender\n",
    "sns.boxplot(x=\"gender\", y=\"reading_score\", data=df, ax=axs[0, 1], palette=\"Set2\", hue=\"gender\", legend=False)\n",
    "axs[0, 1].set_title(\"Reading Score by Gender\")\n",
    "axs[0, 1].set_xlabel(\"Gender\")\n",
    "axs[0, 1].set_ylabel(\"Reading Score\")\n",
    "axs[0, 1].grid(False)\n",
    "\n",
    "# 3. Bar Plot: Average Writing Score by Parental Education\n",
    "avg_writing = df.groupby(\"parental_education\")[\"writing_score\"].mean().sort_values()\n",
    "axs[1, 0].barh(avg_writing.index, avg_writing.values, color=\"lightcoral\")\n",
    "axs[1, 0].set_title(\"Avg Writing Score by Parental Education\")\n",
    "axs[1, 0].set_xlabel(\"Average Writing Score\")\n",
    "axs[1, 0].set_ylabel(\"Parental Education\")\n",
    "axs[1, 0].grid(False)\n",
    "\n",
    "# 4. Countplot: Test Preparation Course Enrollment\n",
    "sns.countplot(x=\"test_preparation_course\", data=df, ax=axs[1, 1], palette=\"pastel\", hue=\"test_preparation_course\", legend=False)\n",
    "axs[1, 1].set_title(\"Test Preparation Course Enrollment\")\n",
    "axs[1, 1].set_xlabel(\"Test Prep Course\")\n",
    "axs[1, 1].set_ylabel(\"Count\")\n",
    "axs[1, 1].grid(False)\n",
    "\n",
    "# Remove unnecessary ticks\n",
    "for ax in axs.flat:\n",
    "    ax.tick_params(axis='both', which='both', length=0)\n",
    "\n",
    "plt.tight_layout(rect=[0, 0, 1, 0.96])\n",
    "plt.savefig(\"dashboard1.png\")\n",
    "plt.show()"
   ]
  }
 ],
 "metadata": {
  "kernelspec": {
   "display_name": ".venv",
   "language": "python",
   "name": "python3"
  },
  "language_info": {
   "codemirror_mode": {
    "name": "ipython",
    "version": 3
   },
   "file_extension": ".py",
   "mimetype": "text/x-python",
   "name": "python",
   "nbconvert_exporter": "python",
   "pygments_lexer": "ipython3",
   "version": "3.13.5"
  }
 },
 "nbformat": 4,
 "nbformat_minor": 5
}
