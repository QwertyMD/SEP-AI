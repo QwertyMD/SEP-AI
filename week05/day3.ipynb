{
 "cells": [
  {
   "cell_type": "code",
   "execution_count": null,
   "id": "86fc9a05",
   "metadata": {},
   "outputs": [],
   "source": [
    "import matplotlib.pyplot as plt\n",
    "import numpy as np\n",
    "import pandas as pd\n",
    "import seaborn as sn\n",
    "\n",
    "np.random.seed(41)\n",
    "data = {\n",
    "    \"Grade\": np.random.choice([\"A\", \"B\", \"C\", \"D\"], 100),\n",
    "    \"Value1\": np.random.rand(100) * 100,\n",
    "    \"Value2\": np.random.rand(100) * 50,\n",
    "    \"Group\": np.random.choice(([\"I\", \"II\"]), 100),\n",
    "    \"Date\": pd.to_datetime(pd.date_range(start=\"2024-07-17\", periods=100, freq=\"D\")),\n",
    "}\n",
    "\n",
    "df = pd.DataFrame(data)\n",
    "\n",
    "fig, axes = plt.subplots(nrows=2, ncols=2, figsize=(12, 9))\n",
    "\n",
    "# Histogram\n",
    "sn.histplot(df[\"Value1\"], ax=axes[0, 0])\n",
    "axes[0, 0].set_title(\"Distribution of Value1\")\n",
    "axes[0, 0].set_xlabel(\"Value1\")\n",
    "axes[0, 0].set_ylabel(\"Frequency\")\n",
    "\n",
    "# Scatterplot\n",
    "sn.scatterplot(x=\"Value1\", y=\"Value2\", hue=\"Group\", data=df, ax=axes[0, 1])\n",
    "axes[0, 1].set_title(\"Value1 vs Value2 by Group\")\n",
    "axes[0, 1].set_xlabel(\"Value1\")\n",
    "axes[0, 1].set_ylabel(\"Value2\")\n",
    "\n",
    "# BoxPlot\n",
    "sn.boxplot(x=\"Grade\", y=\"Value1\", data=df, ax=axes[1, 0])\n",
    "axes[1, 0].set_title(\"Value1 by Grade\")\n",
    "axes[1, 0].set_xlabel(\"Grade\")\n",
    "axes[1, 0].set_ylabel(\"Value1\")\n",
    "\n",
    "# LinePlot\n",
    "df_daily_avg = df.groupby(\"Date\")[\"Value2\"].mean().reset_index()\n",
    "sn.lineplot(x=\"Date\", y=\"Value2\", data=df_daily_avg, ax=axes[1, 1])\n",
    "axes[1, 0].set_title(\"Average Value2 over the time\")\n",
    "axes[1, 0].set_xlabel(\"Date\")\n",
    "axes[1, 0].set_ylabel(\"Average Value2\")\n",
    "\n",
    "fig.suptitle(\"Comprehensive Data Report Dashboard\", fontsize=20)\n",
    "plt.tight_layout(rect=[0, 0.03, 1, 0.85])\n",
    "\n",
    "plt.show()"
   ]
  }
 ],
 "metadata": {
  "kernelspec": {
   "display_name": ".venv",
   "language": "python",
   "name": "python3"
  },
  "language_info": {
   "codemirror_mode": {
    "name": "ipython",
    "version": 3
   },
   "file_extension": ".py",
   "mimetype": "text/x-python",
   "name": "python",
   "nbconvert_exporter": "python",
   "pygments_lexer": "ipython3",
   "version": "3.13.5"
  }
 },
 "nbformat": 4,
 "nbformat_minor": 5
}
